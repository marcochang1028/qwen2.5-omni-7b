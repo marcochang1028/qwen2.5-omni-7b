{
 "cells": [
  {
   "cell_type": "code",
   "execution_count": 4,
   "metadata": {},
   "outputs": [
    {
     "name": "stdout",
     "output_type": "stream",
     "text": [
      "✅ API 測試成功！\n",
      "轉錄結果: \\\"喂您好我想要了解储蓄险喂你好是徐先生吗啊是我是我们这里是那个呃化鼎人寿啊是那我们现在提供的储蓄险呢呃最低的最低的方案就是说要呃十万美金才可以十万美金哦那这个利率是多少呃利率的话我们第一年第一年的话保底是三呃三八可是如果如果\\\"\n"
     ]
    }
   ],
   "source": [
    "import requests\n",
    "\n",
    "# API 伺服器的 URL，請確保 FastAPI 服務已經運行\n",
    "API_URL = \"http://10.1.47.235:5002/audio/transcribe\"\n",
    "\n",
    "# 測試音訊檔案 (請確保 test_audio.wav 存在)\n",
    "audio_file_path = \"../data/範例-樺鼎人壽保險詢問錄音檔.wav\"\n",
    "\n",
    "# 發送 API 請求\n",
    "with open(audio_file_path, \"rb\") as f:\n",
    "    files = {\"file\": (\"test_audio.wav\", f, \"audio/wav\")}\n",
    "    response = requests.post(API_URL, files=files)\n",
    "\n",
    "# 檢查回應\n",
    "if response.status_code == 200:\n",
    "    print(\"✅ API 測試成功！\")\n",
    "    print(\"轉錄結果:\", response.json().get(\"transcription\"))\n",
    "else:\n",
    "    print(\"❌ API 測試失敗，錯誤訊息:\")\n",
    "    print(response.text)"
   ]
  }
 ],
 "metadata": {
  "kernelspec": {
   "display_name": "custom_api",
   "language": "python",
   "name": "python3"
  },
  "language_info": {
   "codemirror_mode": {
    "name": "ipython",
    "version": 3
   },
   "file_extension": ".py",
   "mimetype": "text/x-python",
   "name": "python",
   "nbconvert_exporter": "python",
   "pygments_lexer": "ipython3",
   "version": "3.9.19"
  }
 },
 "nbformat": 4,
 "nbformat_minor": 2
}
